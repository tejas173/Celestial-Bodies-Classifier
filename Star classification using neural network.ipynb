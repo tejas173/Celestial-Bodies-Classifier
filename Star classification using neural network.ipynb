{
 "cells": [
  {
   "cell_type": "markdown",
   "metadata": {},
   "source": [
    "# Star Classification Using A Deep Neural Network (6 Class Classification)"
   ]
  },
  {
   "cell_type": "markdown",
   "metadata": {},
   "source": [
    "## -- Neccessary Modules"
   ]
  },
  {
   "cell_type": "code",
   "execution_count": 1,
   "metadata": {},
   "outputs": [],
   "source": [
    "import tensorflow as tf \n",
    "from tensorflow import keras\n",
    "from sklearn import preprocessing, model_selection\n",
    "import numpy as np \n",
    "import pandas as pd "
   ]
  },
  {
   "cell_type": "markdown",
   "metadata": {},
   "source": [
    "## -- Loading dataset of stars from CSV"
   ]
  },
  {
   "cell_type": "code",
   "execution_count": 2,
   "metadata": {},
   "outputs": [
    {
     "data": {
      "text/html": [
       "<div>\n",
       "<style scoped>\n",
       "    .dataframe tbody tr th:only-of-type {\n",
       "        vertical-align: middle;\n",
       "    }\n",
       "\n",
       "    .dataframe tbody tr th {\n",
       "        vertical-align: top;\n",
       "    }\n",
       "\n",
       "    .dataframe thead th {\n",
       "        text-align: right;\n",
       "    }\n",
       "</style>\n",
       "<table border=\"1\" class=\"dataframe\">\n",
       "  <thead>\n",
       "    <tr style=\"text-align: right;\">\n",
       "      <th></th>\n",
       "      <th>Temperature (K)</th>\n",
       "      <th>Luminosity(L/Lo)</th>\n",
       "      <th>Radius(R/Ro)</th>\n",
       "      <th>Absolute magnitude(Mv)</th>\n",
       "      <th>Star type</th>\n",
       "      <th>Star color</th>\n",
       "      <th>Spectral Class</th>\n",
       "    </tr>\n",
       "  </thead>\n",
       "  <tbody>\n",
       "    <tr>\n",
       "      <th>0</th>\n",
       "      <td>3068</td>\n",
       "      <td>0.002400</td>\n",
       "      <td>0.1700</td>\n",
       "      <td>16.12</td>\n",
       "      <td>0</td>\n",
       "      <td>Red</td>\n",
       "      <td>M</td>\n",
       "    </tr>\n",
       "    <tr>\n",
       "      <th>1</th>\n",
       "      <td>3042</td>\n",
       "      <td>0.000500</td>\n",
       "      <td>0.1542</td>\n",
       "      <td>16.60</td>\n",
       "      <td>0</td>\n",
       "      <td>Red</td>\n",
       "      <td>M</td>\n",
       "    </tr>\n",
       "    <tr>\n",
       "      <th>2</th>\n",
       "      <td>2600</td>\n",
       "      <td>0.000300</td>\n",
       "      <td>0.1020</td>\n",
       "      <td>18.70</td>\n",
       "      <td>0</td>\n",
       "      <td>Red</td>\n",
       "      <td>M</td>\n",
       "    </tr>\n",
       "    <tr>\n",
       "      <th>3</th>\n",
       "      <td>2800</td>\n",
       "      <td>0.000200</td>\n",
       "      <td>0.1600</td>\n",
       "      <td>16.65</td>\n",
       "      <td>0</td>\n",
       "      <td>Red</td>\n",
       "      <td>M</td>\n",
       "    </tr>\n",
       "    <tr>\n",
       "      <th>4</th>\n",
       "      <td>1939</td>\n",
       "      <td>0.000138</td>\n",
       "      <td>0.1030</td>\n",
       "      <td>20.06</td>\n",
       "      <td>0</td>\n",
       "      <td>Red</td>\n",
       "      <td>M</td>\n",
       "    </tr>\n",
       "  </tbody>\n",
       "</table>\n",
       "</div>"
      ],
      "text/plain": [
       "   Temperature (K)  Luminosity(L/Lo)  Radius(R/Ro)  Absolute magnitude(Mv)  \\\n",
       "0             3068          0.002400        0.1700                   16.12   \n",
       "1             3042          0.000500        0.1542                   16.60   \n",
       "2             2600          0.000300        0.1020                   18.70   \n",
       "3             2800          0.000200        0.1600                   16.65   \n",
       "4             1939          0.000138        0.1030                   20.06   \n",
       "\n",
       "   Star type Star color Spectral Class  \n",
       "0          0        Red              M  \n",
       "1          0        Red              M  \n",
       "2          0        Red              M  \n",
       "3          0        Red              M  \n",
       "4          0        Red              M  "
      ]
     },
     "execution_count": 2,
     "metadata": {},
     "output_type": "execute_result"
    }
   ],
   "source": [
    "df = pd.read_csv('6 class csv.csv')\n",
    "df.head()"
   ]
  },
  {
   "cell_type": "markdown",
   "metadata": {},
   "source": [
    "## Lower part of dataset"
   ]
  },
  {
   "cell_type": "code",
   "execution_count": 3,
   "metadata": {},
   "outputs": [
    {
     "data": {
      "text/html": [
       "<div>\n",
       "<style scoped>\n",
       "    .dataframe tbody tr th:only-of-type {\n",
       "        vertical-align: middle;\n",
       "    }\n",
       "\n",
       "    .dataframe tbody tr th {\n",
       "        vertical-align: top;\n",
       "    }\n",
       "\n",
       "    .dataframe thead th {\n",
       "        text-align: right;\n",
       "    }\n",
       "</style>\n",
       "<table border=\"1\" class=\"dataframe\">\n",
       "  <thead>\n",
       "    <tr style=\"text-align: right;\">\n",
       "      <th></th>\n",
       "      <th>Temperature (K)</th>\n",
       "      <th>Luminosity(L/Lo)</th>\n",
       "      <th>Radius(R/Ro)</th>\n",
       "      <th>Absolute magnitude(Mv)</th>\n",
       "      <th>Star type</th>\n",
       "      <th>Star color</th>\n",
       "      <th>Spectral Class</th>\n",
       "    </tr>\n",
       "  </thead>\n",
       "  <tbody>\n",
       "    <tr>\n",
       "      <th>235</th>\n",
       "      <td>38940</td>\n",
       "      <td>374830.0</td>\n",
       "      <td>1356.0</td>\n",
       "      <td>-9.93</td>\n",
       "      <td>5</td>\n",
       "      <td>Blue</td>\n",
       "      <td>O</td>\n",
       "    </tr>\n",
       "    <tr>\n",
       "      <th>236</th>\n",
       "      <td>30839</td>\n",
       "      <td>834042.0</td>\n",
       "      <td>1194.0</td>\n",
       "      <td>-10.63</td>\n",
       "      <td>5</td>\n",
       "      <td>Blue</td>\n",
       "      <td>O</td>\n",
       "    </tr>\n",
       "    <tr>\n",
       "      <th>237</th>\n",
       "      <td>8829</td>\n",
       "      <td>537493.0</td>\n",
       "      <td>1423.0</td>\n",
       "      <td>-10.73</td>\n",
       "      <td>5</td>\n",
       "      <td>White</td>\n",
       "      <td>A</td>\n",
       "    </tr>\n",
       "    <tr>\n",
       "      <th>238</th>\n",
       "      <td>9235</td>\n",
       "      <td>404940.0</td>\n",
       "      <td>1112.0</td>\n",
       "      <td>-11.23</td>\n",
       "      <td>5</td>\n",
       "      <td>White</td>\n",
       "      <td>A</td>\n",
       "    </tr>\n",
       "    <tr>\n",
       "      <th>239</th>\n",
       "      <td>37882</td>\n",
       "      <td>294903.0</td>\n",
       "      <td>1783.0</td>\n",
       "      <td>-7.80</td>\n",
       "      <td>5</td>\n",
       "      <td>Blue</td>\n",
       "      <td>O</td>\n",
       "    </tr>\n",
       "  </tbody>\n",
       "</table>\n",
       "</div>"
      ],
      "text/plain": [
       "     Temperature (K)  Luminosity(L/Lo)  Radius(R/Ro)  Absolute magnitude(Mv)  \\\n",
       "235            38940          374830.0        1356.0                   -9.93   \n",
       "236            30839          834042.0        1194.0                  -10.63   \n",
       "237             8829          537493.0        1423.0                  -10.73   \n",
       "238             9235          404940.0        1112.0                  -11.23   \n",
       "239            37882          294903.0        1783.0                   -7.80   \n",
       "\n",
       "     Star type Star color Spectral Class  \n",
       "235          5       Blue              O  \n",
       "236          5       Blue              O  \n",
       "237          5      White              A  \n",
       "238          5      White              A  \n",
       "239          5       Blue              O  "
      ]
     },
     "execution_count": 3,
     "metadata": {},
     "output_type": "execute_result"
    }
   ],
   "source": [
    "df.tail()"
   ]
  },
  {
   "cell_type": "markdown",
   "metadata": {},
   "source": [
    "## Checking For NULL Values"
   ]
  },
  {
   "cell_type": "code",
   "execution_count": 4,
   "metadata": {},
   "outputs": [
    {
     "data": {
      "text/plain": [
       "False"
      ]
     },
     "execution_count": 4,
     "metadata": {},
     "output_type": "execute_result"
    }
   ],
   "source": [
    "df.isnull().values.any()"
   ]
  },
  {
   "cell_type": "markdown",
   "metadata": {},
   "source": [
    "## Finding Correlation of our dataset to check for redundant columns"
   ]
  },
  {
   "cell_type": "code",
   "execution_count": 5,
   "metadata": {},
   "outputs": [
    {
     "data": {
      "text/html": [
       "<div>\n",
       "<style scoped>\n",
       "    .dataframe tbody tr th:only-of-type {\n",
       "        vertical-align: middle;\n",
       "    }\n",
       "\n",
       "    .dataframe tbody tr th {\n",
       "        vertical-align: top;\n",
       "    }\n",
       "\n",
       "    .dataframe thead th {\n",
       "        text-align: right;\n",
       "    }\n",
       "</style>\n",
       "<table border=\"1\" class=\"dataframe\">\n",
       "  <thead>\n",
       "    <tr style=\"text-align: right;\">\n",
       "      <th></th>\n",
       "      <th>Temperature (K)</th>\n",
       "      <th>Luminosity(L/Lo)</th>\n",
       "      <th>Radius(R/Ro)</th>\n",
       "      <th>Absolute magnitude(Mv)</th>\n",
       "      <th>Star type</th>\n",
       "    </tr>\n",
       "  </thead>\n",
       "  <tbody>\n",
       "    <tr>\n",
       "      <th>Temperature (K)</th>\n",
       "      <td>1.000000</td>\n",
       "      <td>0.393404</td>\n",
       "      <td>0.064216</td>\n",
       "      <td>-0.420261</td>\n",
       "      <td>0.411129</td>\n",
       "    </tr>\n",
       "    <tr>\n",
       "      <th>Luminosity(L/Lo)</th>\n",
       "      <td>0.393404</td>\n",
       "      <td>1.000000</td>\n",
       "      <td>0.526516</td>\n",
       "      <td>-0.692619</td>\n",
       "      <td>0.676845</td>\n",
       "    </tr>\n",
       "    <tr>\n",
       "      <th>Radius(R/Ro)</th>\n",
       "      <td>0.064216</td>\n",
       "      <td>0.526516</td>\n",
       "      <td>1.000000</td>\n",
       "      <td>-0.608728</td>\n",
       "      <td>0.660975</td>\n",
       "    </tr>\n",
       "    <tr>\n",
       "      <th>Absolute magnitude(Mv)</th>\n",
       "      <td>-0.420261</td>\n",
       "      <td>-0.692619</td>\n",
       "      <td>-0.608728</td>\n",
       "      <td>1.000000</td>\n",
       "      <td>-0.955276</td>\n",
       "    </tr>\n",
       "    <tr>\n",
       "      <th>Star type</th>\n",
       "      <td>0.411129</td>\n",
       "      <td>0.676845</td>\n",
       "      <td>0.660975</td>\n",
       "      <td>-0.955276</td>\n",
       "      <td>1.000000</td>\n",
       "    </tr>\n",
       "  </tbody>\n",
       "</table>\n",
       "</div>"
      ],
      "text/plain": [
       "                        Temperature (K)  Luminosity(L/Lo)  Radius(R/Ro)  \\\n",
       "Temperature (K)                1.000000          0.393404      0.064216   \n",
       "Luminosity(L/Lo)               0.393404          1.000000      0.526516   \n",
       "Radius(R/Ro)                   0.064216          0.526516      1.000000   \n",
       "Absolute magnitude(Mv)        -0.420261         -0.692619     -0.608728   \n",
       "Star type                      0.411129          0.676845      0.660975   \n",
       "\n",
       "                        Absolute magnitude(Mv)  Star type  \n",
       "Temperature (K)                      -0.420261   0.411129  \n",
       "Luminosity(L/Lo)                     -0.692619   0.676845  \n",
       "Radius(R/Ro)                         -0.608728   0.660975  \n",
       "Absolute magnitude(Mv)                1.000000  -0.955276  \n",
       "Star type                            -0.955276   1.000000  "
      ]
     },
     "execution_count": 5,
     "metadata": {},
     "output_type": "execute_result"
    }
   ],
   "source": [
    "df.corr()"
   ]
  },
  {
   "cell_type": "markdown",
   "metadata": {},
   "source": [
    "## Visualizing Correlation of columns"
   ]
  },
  {
   "cell_type": "code",
   "execution_count": 6,
   "metadata": {},
   "outputs": [
    {
     "data": {
      "image/png": "[encoded data removed]",
      "text/plain": [
       "<Figure size 432x432 with 1 Axes>"
      ]
     },
     "metadata": {
      "needs_background": "light"
     },
     "output_type": "display_data"
    }
   ],
   "source": [
    "import matplotlib.pyplot as plt\n",
    "\n",
    "def plot_corr(df):\n",
    "    corr = df.corr()\n",
    "    fig,ax = plt.subplots(figsize = (6,6))\n",
    "    ax.matshow(corr)\n",
    "    plt.xticks(range(len(corr.columns)),corr.columns)\n",
    "    plt.yticks(range(len(corr.columns)),corr.columns)\n",
    "    \n",
    "    \n",
    "plot_corr(df) "
   ]
  },
  {
   "cell_type": "markdown",
   "metadata": {},
   "source": [
    "## Checking Stats about our dataset"
   ]
  },
  {
   "cell_type": "code",
   "execution_count": 7,
   "metadata": {},
   "outputs": [],
   "source": [
    "# star class:  Star Type\n",
    "#     0     :  Brown Dwarf\n",
    "#     1     :  Red Dwarf\n",
    "#     2     :  White Dwarf\n",
    "#     3     :  Main-Sequence\n",
    "#     4     :  Supergiant\n",
    "#     5     :  Hypergiant"
   ]
  },
  {
   "cell_type": "code",
   "execution_count": 8,
   "metadata": {},
   "outputs": [
    {
     "name": "stdout",
     "output_type": "stream",
     "text": [
      "Brown dwarf = 40 \n",
      "Red dwarf  = 40 \n",
      "White Dwarf = 40 \n",
      "Main Sequence = 40 \n",
      "Supergiant= 40 \n",
      "Hypergiant = 40 \n",
      "Total stars in the dataset = 240 \n"
     ]
    }
   ],
   "source": [
    "brown_dwarf = len(df.loc[df['Star type'] == 0])\n",
    "red_dwarf = len(df.loc[df['Star type'] == 1])\n",
    "white_dwarf = len(df.loc[df['Star type'] == 2])\n",
    "main_sequence = len(df.loc[df['Star type'] == 3])\n",
    "supergiant = len(df.loc[df['Star type'] == 4])\n",
    "hypergiant = len(df.loc[df['Star type'] == 5])\n",
    "\n",
    "print(\"Brown dwarf = {} \".format(brown_dwarf))\n",
    "print(\"Red dwarf  = {} \".format(red_dwarf))\n",
    "print(\"White Dwarf = {} \".format(white_dwarf))\n",
    "print(\"Main Sequence = {} \".format(main_sequence))\n",
    "print(\"Supergiant= {} \".format(supergiant))\n",
    "print(\"Hypergiant = {} \".format(hypergiant)) \n",
    "print(\"Total stars in the dataset = {} \".format(len(df)))"
   ]
  },
  {
   "cell_type": "markdown",
   "metadata": {},
   "source": [
    "## -- Converting Data into Numpy Arrays ( For Sake of Convenience)"
   ]
  },
  {
   "cell_type": "code",
   "execution_count": 9,
   "metadata": {},
   "outputs": [
    {
     "name": "stderr",
     "output_type": "stream",
     "text": [
      "C:\\Users\\Tejas\\AppData\\Local\\Temp/ipykernel_4660/3990968087.py:1: FutureWarning: In a future version of pandas all arguments of DataFrame.drop except for the argument 'labels' will be keyword-only.\n",
      "  x = np.array(df.drop(['Star type', 'Star color','Spectral Class'],1))   # Excludes Star type, Star color and Spectral Class\n"
     ]
    }
   ],
   "source": [
    "x = np.array(df.drop(['Star type', 'Star color','Spectral Class'],1))   # Excludes Star type, Star color and Spectral Class\n",
    "y = np.array(df['Star type'], dtype ='float')                           # Only Star type column\n",
    "y.shape = (len(y),1)                                                    # Shaping the star type column into a column vector"
   ]
  },
  {
   "cell_type": "markdown",
   "metadata": {},
   "source": [
    "## -- Splitting Data into Training And Testing Data"
   ]
  },
  {
   "cell_type": "code",
   "execution_count": 10,
   "metadata": {},
   "outputs": [],
   "source": [
    "x_train ,x_test , y_train, y_test = model_selection.train_test_split(x,y, test_size = 0.3)    #Splits data into 70:30 ratio"
   ]
  },
  {
   "cell_type": "markdown",
   "metadata": {},
   "source": [
    "## -- Scaling Data for Better Modelling (Only x values)"
   ]
  },
  {
   "cell_type": "code",
   "execution_count": 11,
   "metadata": {},
   "outputs": [],
   "source": [
    "x_f_train = preprocessing.scale(x_train)\n",
    "x_f_test = preprocessing.scale(x_test)\n",
    "y_f_train = y_train\n",
    "y_f_test = y_test"
   ]
  },
  {
   "cell_type": "markdown",
   "metadata": {},
   "source": [
    "## -- Using DNN Model for Training Data "
   ]
  },
  {
   "cell_type": "code",
   "execution_count": 12,
   "metadata": {},
   "outputs": [],
   "source": [
    "model = tf.keras.models.Sequential()\n",
    "model.add(tf.keras.layers.Flatten())\n",
    "model.add(tf.keras.layers.Dense(200,activation = tf.nn.relu))\n",
    "model.add(tf.keras.layers.Dense(300,activation = tf.nn.relu))\n",
    "model.add(tf.keras.layers.Dense(6,activation = tf.nn.softmax))\n",
    "\n",
    "\n",
    "model.compile(optimizer='adam', loss='sparse_categorical_crossentropy', metrics=['accuracy'])"
   ]
  },
  {
   "cell_type": "markdown",
   "metadata": {},
   "source": [
    "## -- Fitting Data into Model "
   ]
  },
  {
   "cell_type": "code",
   "execution_count": 13,
   "metadata": {},
   "outputs": [
    {
     "name": "stdout",
     "output_type": "stream",
     "text": [
      "Epoch 1/100\n",
      "6/6 [==============================] - 1s 3ms/step - loss: 1.6581 - accuracy: 0.4107\n",
      "Epoch 2/100\n",
      "6/6 [==============================] - 0s 3ms/step - loss: 1.2752 - accuracy: 0.7321\n",
      "Epoch 3/100\n",
      "6/6 [==============================] - 0s 5ms/step - loss: 1.0238 - accuracy: 0.7262\n",
      "Epoch 4/100\n",
      "6/6 [==============================] - 0s 4ms/step - loss: 0.8283 - accuracy: 0.7262\n",
      "Epoch 5/100\n",
      "6/6 [==============================] - 0s 4ms/step - loss: 0.6783 - accuracy: 0.8036\n",
      "Epoch 6/100\n",
      "6/6 [==============================] - 0s 5ms/step - loss: 0.5559 - accuracy: 0.9464\n",
      "Epoch 7/100\n",
      "6/6 [==============================] - 0s 5ms/step - loss: 0.4648 - accuracy: 0.9524\n",
      "Epoch 8/100\n",
      "6/6 [==============================] - 0s 4ms/step - loss: 0.3972 - accuracy: 0.8929\n",
      "Epoch 9/100\n",
      "6/6 [==============================] - 0s 4ms/step - loss: 0.3465 - accuracy: 0.8929\n",
      "Epoch 10/100\n",
      "6/6 [==============================] - 0s 4ms/step - loss: 0.2970 - accuracy: 0.9762\n",
      "Epoch 11/100\n",
      "6/6 [==============================] - 0s 3ms/step - loss: 0.2667 - accuracy: 0.9821\n",
      "Epoch 12/100\n",
      "6/6 [==============================] - 0s 3ms/step - loss: 0.2279 - accuracy: 0.9881\n",
      "Epoch 13/100\n",
      "6/6 [==============================] - 0s 3ms/step - loss: 0.2104 - accuracy: 0.9821\n",
      "Epoch 14/100\n",
      "6/6 [==============================] - 0s 3ms/step - loss: 0.1857 - accuracy: 0.9881\n",
      "Epoch 15/100\n",
      "6/6 [==============================] - 0s 3ms/step - loss: 0.1682 - accuracy: 0.9940\n",
      "Epoch 16/100\n",
      "6/6 [==============================] - 0s 4ms/step - loss: 0.1505 - accuracy: 0.9762\n",
      "Epoch 17/100\n",
      "6/6 [==============================] - 0s 5ms/step - loss: 0.1349 - accuracy: 0.9821\n",
      "Epoch 18/100\n",
      "6/6 [==============================] - 0s 4ms/step - loss: 0.1276 - accuracy: 0.9702\n",
      "Epoch 19/100\n",
      "6/6 [==============================] - 0s 4ms/step - loss: 0.1172 - accuracy: 0.9940\n",
      "Epoch 20/100\n",
      "6/6 [==============================] - 0s 4ms/step - loss: 0.1072 - accuracy: 0.9881\n",
      "Epoch 21/100\n",
      "6/6 [==============================] - 0s 4ms/step - loss: 0.0976 - accuracy: 0.9821\n",
      "Epoch 22/100\n",
      "6/6 [==============================] - 0s 5ms/step - loss: 0.0889 - accuracy: 1.0000\n",
      "Epoch 23/100\n",
      "6/6 [==============================] - 0s 6ms/step - loss: 0.0813 - accuracy: 1.0000\n",
      "Epoch 24/100\n",
      "6/6 [==============================] - 0s 4ms/step - loss: 0.0798 - accuracy: 0.9821\n",
      "Epoch 25/100\n",
      "6/6 [==============================] - 0s 4ms/step - loss: 0.0688 - accuracy: 0.9940\n",
      "Epoch 26/100\n",
      "6/6 [==============================] - 0s 3ms/step - loss: 0.0665 - accuracy: 1.0000\n",
      "Epoch 27/100\n",
      "6/6 [==============================] - 0s 3ms/step - loss: 0.0648 - accuracy: 0.9940\n",
      "Epoch 28/100\n",
      "6/6 [==============================] - 0s 3ms/step - loss: 0.0566 - accuracy: 1.0000\n",
      "Epoch 29/100\n",
      "6/6 [==============================] - 0s 3ms/step - loss: 0.0572 - accuracy: 1.0000\n",
      "Epoch 30/100\n",
      "6/6 [==============================] - 0s 4ms/step - loss: 0.0539 - accuracy: 0.9940\n",
      "Epoch 31/100\n",
      "6/6 [==============================] - 0s 5ms/step - loss: 0.0500 - accuracy: 1.0000\n",
      "Epoch 32/100\n",
      "6/6 [==============================] - 0s 5ms/step - loss: 0.0460 - accuracy: 1.0000\n",
      "Epoch 33/100\n",
      "6/6 [==============================] - 0s 3ms/step - loss: 0.0439 - accuracy: 1.0000\n",
      "Epoch 34/100\n",
      "6/6 [==============================] - 0s 4ms/step - loss: 0.0402 - accuracy: 1.0000\n",
      "Epoch 35/100\n",
      "6/6 [==============================] - 0s 4ms/step - loss: 0.0412 - accuracy: 1.0000\n",
      "Epoch 36/100\n",
      "6/6 [==============================] - 0s 5ms/step - loss: 0.0389 - accuracy: 1.0000\n",
      "Epoch 37/100\n",
      "6/6 [==============================] - 0s 5ms/step - loss: 0.0364 - accuracy: 1.0000\n",
      "Epoch 38/100\n",
      "6/6 [==============================] - 0s 4ms/step - loss: 0.0345 - accuracy: 1.0000\n",
      "Epoch 39/100\n",
      "6/6 [==============================] - 0s 4ms/step - loss: 0.0363 - accuracy: 1.0000\n",
      "Epoch 40/100\n",
      "6/6 [==============================] - 0s 4ms/step - loss: 0.0363 - accuracy: 0.9940\n",
      "Epoch 41/100\n",
      "6/6 [==============================] - 0s 5ms/step - loss: 0.0303 - accuracy: 0.9940\n",
      "Epoch 42/100\n",
      "6/6 [==============================] - 0s 3ms/step - loss: 0.0325 - accuracy: 1.0000\n",
      "Epoch 43/100\n",
      "6/6 [==============================] - 0s 3ms/step - loss: 0.0314 - accuracy: 0.9940\n",
      "Epoch 44/100\n",
      "6/6 [==============================] - 0s 4ms/step - loss: 0.0283 - accuracy: 1.0000\n",
      "Epoch 45/100\n",
      "6/6 [==============================] - 0s 4ms/step - loss: 0.0287 - accuracy: 1.0000\n",
      "Epoch 46/100\n",
      "6/6 [==============================] - 0s 5ms/step - loss: 0.0252 - accuracy: 1.0000\n",
      "Epoch 47/100\n",
      "6/6 [==============================] - 0s 4ms/step - loss: 0.0279 - accuracy: 1.0000\n",
      "Epoch 48/100\n",
      "6/6 [==============================] - 0s 4ms/step - loss: 0.0246 - accuracy: 1.0000\n",
      "Epoch 49/100\n",
      "6/6 [==============================] - 0s 4ms/step - loss: 0.0224 - accuracy: 1.0000\n",
      "Epoch 50/100\n",
      "6/6 [==============================] - 0s 4ms/step - loss: 0.0244 - accuracy: 1.0000\n",
      "Epoch 51/100\n",
      "6/6 [==============================] - 0s 4ms/step - loss: 0.0224 - accuracy: 1.0000\n",
      "Epoch 52/100\n",
      "6/6 [==============================] - 0s 4ms/step - loss: 0.0245 - accuracy: 1.0000\n",
      "Epoch 53/100\n",
      "6/6 [==============================] - 0s 4ms/step - loss: 0.0186 - accuracy: 1.0000\n",
      "Epoch 54/100\n",
      "6/6 [==============================] - 0s 3ms/step - loss: 0.0260 - accuracy: 0.9940\n",
      "Epoch 55/100\n",
      "6/6 [==============================] - 0s 4ms/step - loss: 0.0222 - accuracy: 1.0000\n",
      "Epoch 56/100\n",
      "6/6 [==============================] - 0s 3ms/step - loss: 0.0208 - accuracy: 1.0000\n",
      "Epoch 57/100\n",
      "6/6 [==============================] - 0s 3ms/step - loss: 0.0196 - accuracy: 1.0000\n",
      "Epoch 58/100\n",
      "6/6 [==============================] - 0s 4ms/step - loss: 0.0179 - accuracy: 1.0000\n",
      "Epoch 59/100\n",
      "6/6 [==============================] - 0s 3ms/step - loss: 0.0184 - accuracy: 1.0000\n",
      "Epoch 60/100\n",
      "6/6 [==============================] - 0s 4ms/step - loss: 0.0168 - accuracy: 1.0000\n",
      "Epoch 61/100\n",
      "6/6 [==============================] - 0s 3ms/step - loss: 0.0159 - accuracy: 1.0000\n",
      "Epoch 62/100\n",
      "6/6 [==============================] - 0s 4ms/step - loss: 0.0164 - accuracy: 1.0000\n",
      "Epoch 63/100\n",
      "6/6 [==============================] - 0s 4ms/step - loss: 0.0166 - accuracy: 1.0000\n",
      "Epoch 64/100\n",
      "6/6 [==============================] - 0s 3ms/step - loss: 0.0155 - accuracy: 1.0000\n",
      "Epoch 65/100\n",
      "6/6 [==============================] - 0s 4ms/step - loss: 0.0180 - accuracy: 1.0000\n",
      "Epoch 66/100\n",
      "6/6 [==============================] - 0s 3ms/step - loss: 0.0154 - accuracy: 1.0000\n",
      "Epoch 67/100\n",
      "6/6 [==============================] - 0s 3ms/step - loss: 0.0164 - accuracy: 1.0000\n",
      "Epoch 68/100\n",
      "6/6 [==============================] - 0s 3ms/step - loss: 0.0144 - accuracy: 1.0000\n",
      "Epoch 69/100\n",
      "6/6 [==============================] - 0s 3ms/step - loss: 0.0133 - accuracy: 1.0000\n",
      "Epoch 70/100\n",
      "6/6 [==============================] - 0s 3ms/step - loss: 0.0136 - accuracy: 1.0000\n",
      "Epoch 71/100\n",
      "6/6 [==============================] - 0s 3ms/step - loss: 0.0137 - accuracy: 1.0000\n",
      "Epoch 72/100\n",
      "6/6 [==============================] - 0s 3ms/step - loss: 0.0125 - accuracy: 1.0000\n",
      "Epoch 73/100\n",
      "6/6 [==============================] - 0s 3ms/step - loss: 0.0128 - accuracy: 1.0000\n",
      "Epoch 74/100\n",
      "6/6 [==============================] - 0s 3ms/step - loss: 0.0118 - accuracy: 1.0000\n",
      "Epoch 75/100\n",
      "6/6 [==============================] - 0s 3ms/step - loss: 0.0117 - accuracy: 1.0000\n",
      "Epoch 76/100\n",
      "6/6 [==============================] - 0s 3ms/step - loss: 0.0114 - accuracy: 1.0000\n",
      "Epoch 77/100\n",
      "6/6 [==============================] - 0s 3ms/step - loss: 0.0104 - accuracy: 1.0000\n",
      "Epoch 78/100\n",
      "6/6 [==============================] - 0s 2ms/step - loss: 0.0109 - accuracy: 1.0000\n",
      "Epoch 79/100\n",
      "6/6 [==============================] - 0s 2ms/step - loss: 0.0115 - accuracy: 1.0000\n",
      "Epoch 80/100\n",
      "6/6 [==============================] - 0s 2ms/step - loss: 0.0122 - accuracy: 1.0000\n",
      "Epoch 81/100\n",
      "6/6 [==============================] - 0s 3ms/step - loss: 0.0135 - accuracy: 1.0000\n",
      "Epoch 82/100\n",
      "6/6 [==============================] - 0s 3ms/step - loss: 0.0148 - accuracy: 1.0000\n",
      "Epoch 83/100\n",
      "6/6 [==============================] - 0s 3ms/step - loss: 0.0104 - accuracy: 1.0000\n",
      "Epoch 84/100\n"
     ]
    },
    {
     "name": "stdout",
     "output_type": "stream",
     "text": [
      "6/6 [==============================] - 0s 4ms/step - loss: 0.0093 - accuracy: 1.0000\n",
      "Epoch 85/100\n",
      "6/6 [==============================] - 0s 3ms/step - loss: 0.0094 - accuracy: 1.0000\n",
      "Epoch 86/100\n",
      "6/6 [==============================] - 0s 3ms/step - loss: 0.0091 - accuracy: 1.0000\n",
      "Epoch 87/100\n",
      "6/6 [==============================] - 0s 3ms/step - loss: 0.0103 - accuracy: 1.0000\n",
      "Epoch 88/100\n",
      "6/6 [==============================] - 0s 3ms/step - loss: 0.0089 - accuracy: 1.0000\n",
      "Epoch 89/100\n",
      "6/6 [==============================] - 0s 3ms/step - loss: 0.0093 - accuracy: 1.0000\n",
      "Epoch 90/100\n",
      "6/6 [==============================] - 0s 4ms/step - loss: 0.0080 - accuracy: 1.0000\n",
      "Epoch 91/100\n",
      "6/6 [==============================] - 0s 3ms/step - loss: 0.0086 - accuracy: 1.0000\n",
      "Epoch 92/100\n",
      "6/6 [==============================] - 0s 4ms/step - loss: 0.0079 - accuracy: 1.0000\n",
      "Epoch 93/100\n",
      "6/6 [==============================] - 0s 3ms/step - loss: 0.0085 - accuracy: 1.0000\n",
      "Epoch 94/100\n",
      "6/6 [==============================] - 0s 3ms/step - loss: 0.0078 - accuracy: 1.0000\n",
      "Epoch 95/100\n",
      "6/6 [==============================] - 0s 3ms/step - loss: 0.0074 - accuracy: 1.0000\n",
      "Epoch 96/100\n",
      "6/6 [==============================] - 0s 3ms/step - loss: 0.0073 - accuracy: 1.0000\n",
      "Epoch 97/100\n",
      "6/6 [==============================] - 0s 3ms/step - loss: 0.0071 - accuracy: 1.0000\n",
      "Epoch 98/100\n",
      "6/6 [==============================] - 0s 2ms/step - loss: 0.0075 - accuracy: 1.0000\n",
      "Epoch 99/100\n",
      "6/6 [==============================] - 0s 3ms/step - loss: 0.0079 - accuracy: 1.0000\n",
      "Epoch 100/100\n",
      "6/6 [==============================] - 0s 3ms/step - loss: 0.0073 - accuracy: 1.0000\n"
     ]
    },
    {
     "data": {
      "text/plain": [
       "<keras.callbacks.History at 0x2af5afa8eb0>"
      ]
     },
     "execution_count": 13,
     "metadata": {},
     "output_type": "execute_result"
    }
   ],
   "source": [
    "model.fit(x_f_train,y_f_train, epochs = 100)"
   ]
  },
  {
   "cell_type": "markdown",
   "metadata": {},
   "source": [
    "## -- Checking Trained Data For Overfitting and Underfitting over tested data"
   ]
  },
  {
   "cell_type": "code",
   "execution_count": 14,
   "metadata": {},
   "outputs": [
    {
     "name": "stdout",
     "output_type": "stream",
     "text": [
      "3/3 [==============================] - 0s 2ms/step - loss: 0.0600 - accuracy: 0.9722\n",
      "Loss % = 6.001022830605507 , Accuracy % = 97.22222089767456 \n"
     ]
    }
   ],
   "source": [
    "val_loss,val_acc = model.evaluate(x_f_test,y_f_test)\n",
    "print(\"Loss % = {} , Accuracy % = {} \".format(val_loss*100,val_acc*100))"
   ]
  },
  {
   "cell_type": "markdown",
   "metadata": {},
   "source": [
    "## -- Predicting Star Type of Test Data from Trained Data "
   ]
  },
  {
   "cell_type": "code",
   "execution_count": 15,
   "metadata": {},
   "outputs": [],
   "source": [
    "# [1,0,0,0,0,0] = Brown Dwarf\n",
    "# [0,1,0,0,0,0] = Red Dwarf\n",
    "# [0,0,1,0,0,0] = White Dwarf\n",
    "# [0,0,0,1,0,0] = Main Sequence\n",
    "# [0,0,0,0,1,0] = Supergiant\n",
    "# [0,0,0,0,0,1] = Hypergiant\n",
    "\n",
    "arr = np.array([[1,0,0,0,0,0],[0,1,0,0,0,0],[0,0,1,0,0,0],[0,0,0,1,0,0],[0,0,0,0,1,0],[0,0,0,0,0,1]])"
   ]
  },
  {
   "cell_type": "code",
   "execution_count": 16,
   "metadata": {},
   "outputs": [
    {
     "name": "stdout",
     "output_type": "stream",
     "text": [
      "3/3 [==============================] - 0s 2ms/step\n",
      "_____________________________________________________\n",
      "Prediction : P-Class : O-Class \n",
      "[0. 0. 1. 0. 0. 0.]  :  2 :  [2.]\n",
      "[0. 0. 0. 0. 0. 1.]  :  5 :  [5.]\n",
      "[0. 0. 0. 0. 1. 0.]  :  4 :  [4.]\n",
      "[0. 1. 0. 0. 0. 0.]  :  1 :  [1.]\n",
      "[0. 0. 0. 1. 0. 0.]  :  3 :  [3.]\n",
      "[0. 0. 0. 0. 0. 1.]  :  5 :  [5.]\n",
      "[1. 0. 0. 0. 0. 0.]  :  0 :  [0.]\n",
      "[0. 0. 0. 1. 0. 0.]  :  3 :  [3.]\n",
      "[0. 0. 1. 0. 0. 0.]  :  2 :  [2.]\n",
      "[0. 0. 1. 0. 0. 0.]  :  2 :  [2.]\n",
      "[0. 1. 0. 0. 0. 0.]  :  1 :  [1.]\n",
      "[0. 0. 0. 0. 1. 0.]  :  4 :  [4.]\n",
      "[0. 0. 0. 0. 1. 0.]  :  4 :  [4.]\n",
      "[0. 0. 0. 1. 0. 0.]  :  3 :  [3.]\n",
      "[1. 0. 0. 0. 0. 0.]  :  0 :  [0.]\n",
      "[0. 0. 1. 0. 0. 0.]  :  2 :  [2.]\n",
      "[0. 1. 0. 0. 0. 0.]  :  1 :  [1.]\n",
      "[0. 0. 0. 1. 0. 0.]  :  3 :  [3.]\n",
      "[0. 1. 0. 0. 0. 0.]  :  1 :  [1.]\n",
      "[0. 0. 0. 0. 0. 1.]  :  5 :  [5.]\n",
      "[0. 0. 0. 0. 1. 0.]  :  4 :  [4.]\n",
      "[0. 0. 1. 0. 0. 0.]  :  2 :  [2.]\n",
      "[0. 1. 0. 0. 0. 0.]  :  1 :  [1.]\n",
      "[1. 0. 0. 0. 0. 0.]  :  0 :  [1.]\n",
      "[1. 0. 0. 0. 0. 0.]  :  0 :  [0.]\n",
      "[0. 0. 0. 0. 1. 0.]  :  4 :  [4.]\n",
      "[0. 0. 0. 0. 1. 0.]  :  4 :  [4.]\n",
      "[1. 0. 0. 0. 0. 0.]  :  0 :  [0.]\n",
      "[0. 1. 0. 0. 0. 0.]  :  1 :  [1.]\n",
      "[1. 0. 0. 0. 0. 0.]  :  0 :  [0.]\n",
      "[0. 0. 0. 0. 1. 0.]  :  4 :  [4.]\n",
      "[0. 0. 0. 0. 0. 1.]  :  5 :  [5.]\n",
      "[1. 0. 0. 0. 0. 0.]  :  0 :  [0.]\n",
      "[0. 0. 0. 1. 0. 0.]  :  3 :  [3.]\n",
      "[0. 0. 0. 0. 1. 0.]  :  4 :  [4.]\n",
      "[1. 0. 0. 0. 0. 0.]  :  0 :  [0.]\n",
      "[0. 0. 0. 0. 0. 1.]  :  5 :  [5.]\n",
      "[0. 0. 0. 0. 0. 1.]  :  5 :  [5.]\n",
      "[0. 0. 0. 0. 1. 0.]  :  4 :  [4.]\n",
      "[0. 0. 0. 1. 0. 0.]  :  3 :  [4.]\n",
      "[1. 0. 0. 0. 0. 0.]  :  0 :  [0.]\n",
      "[0. 0. 0. 0. 1. 0.]  :  4 :  [4.]\n",
      "[0. 0. 0. 0. 0. 1.]  :  5 :  [5.]\n",
      "[0. 0. 1. 0. 0. 0.]  :  2 :  [2.]\n",
      "[0. 0. 0. 0. 1. 0.]  :  4 :  [4.]\n",
      "[0. 0. 0. 1. 0. 0.]  :  3 :  [3.]\n",
      "[0. 0. 0. 0. 0. 1.]  :  5 :  [5.]\n",
      "[1. 0. 0. 0. 0. 0.]  :  0 :  [0.]\n",
      "[0. 0. 0. 0. 1. 0.]  :  4 :  [4.]\n",
      "[0. 0. 0. 0. 1. 0.]  :  4 :  [4.]\n",
      "[0. 0. 0. 0. 1. 0.]  :  4 :  [4.]\n",
      "[0. 0. 0. 0. 0. 1.]  :  5 :  [5.]\n",
      "[0. 0. 1. 0. 0. 0.]  :  2 :  [2.]\n",
      "[0. 0. 1. 0. 0. 0.]  :  2 :  [2.]\n",
      "[0. 0. 0. 1. 0. 0.]  :  3 :  [3.]\n",
      "[0. 1. 0. 0. 0. 0.]  :  1 :  [1.]\n",
      "[1. 0. 0. 0. 0. 0.]  :  0 :  [0.]\n",
      "[0. 1. 0. 0. 0. 0.]  :  1 :  [1.]\n",
      "[0. 0. 1. 0. 0. 0.]  :  2 :  [2.]\n",
      "[0. 0. 0. 1. 0. 0.]  :  3 :  [3.]\n",
      "[0. 0. 0. 0. 1. 0.]  :  4 :  [4.]\n",
      "[0. 1. 0. 0. 0. 0.]  :  1 :  [1.]\n",
      "[1. 0. 0. 0. 0. 0.]  :  0 :  [0.]\n",
      "[0. 0. 0. 1. 0. 0.]  :  3 :  [3.]\n",
      "[0. 0. 0. 0. 0. 1.]  :  5 :  [5.]\n",
      "[0. 0. 0. 1. 0. 0.]  :  3 :  [3.]\n",
      "[0. 0. 1. 0. 0. 0.]  :  2 :  [2.]\n",
      "[0. 0. 0. 0. 0. 1.]  :  5 :  [5.]\n",
      "[0. 0. 0. 0. 1. 0.]  :  4 :  [4.]\n",
      "[0. 0. 0. 1. 0. 0.]  :  3 :  [3.]\n",
      "[1. 0. 0. 0. 0. 0.]  :  0 :  [0.]\n",
      "[0. 0. 0. 1. 0. 0.]  :  3 :  [3.]\n",
      "_____________________________________________________\n",
      "Predicted NO. of Brown Dwarfs = 13\n",
      "Predicted NO. of Red Dwarfs = 9\n",
      "Predicted NO. of White Dwarfs = 10\n",
      "Predicted NO. of Main Sequence stars = 13\n",
      "Predicted NO. of Supergiants = 16\n",
      "Predicted NO. of Hypergiants = 11\n",
      "Total tested stars = 72\n",
      "_____________________________________________________\n",
      "Original NO. of Brown Dwarfs = 12\n",
      "Original NO. of Red Dwarfs = 10\n",
      "Original NO. of White Dwarfs = 10\n",
      "Original NO. of Main Sequence stars = 12\n",
      "Original NO. of Supergiants = 17\n",
      "Original NO. of Hypergiants = 11\n",
      "Total tested stars = 72\n",
      "_____________________________________________________\n",
      "Accuracy = 97.22222089767456%\n"
     ]
    }
   ],
   "source": [
    "z = np.round(model.predict(x_f_test))\n",
    "\n",
    "print('_____________________________________________________')\n",
    "print(\"Prediction : P-Class : O-Class \")\n",
    "\n",
    "c1=c2=c3=c4=c5=c6=c7=c8=c9=c10=c11=c12=0  #counter variables\n",
    "\n",
    "for i in range(0,len(z)):\n",
    "    if np.array_equal(z[i],arr[0]):\n",
    "        print(\"{}  :  {} :  {}\".format(z[i],0,y_test[i]))\n",
    "        c1+=1\n",
    "    elif np.array_equal(z[i],arr[1]):\n",
    "        print(\"{}  :  {} :  {}\".format(z[i],1,y_test[i]))\n",
    "        c2+=1\n",
    "    elif np.array_equal(z[i],arr[2]):\n",
    "        print(\"{}  :  {} :  {}\".format(z[i],2,y_test[i]))\n",
    "        c3+=1  \n",
    "    elif np.array_equal(z[i],arr[3]):\n",
    "        print(\"{}  :  {} :  {}\".format(z[i],3,y_test[i]))\n",
    "        c4+=1 \n",
    "    elif np.array_equal(z[i],arr[4]):\n",
    "        print(\"{}  :  {} :  {}\".format(z[i],4,y_test[i]))\n",
    "        c5+=1\n",
    "    elif np.array_equal(z[i],arr[5]):\n",
    "        print(\"{}  :  {} :  {}\".format(z[i],5,y_test[i]))\n",
    "        c6+=1    \n",
    "\n",
    "print('_____________________________________________________')\n",
    "print(\"Predicted NO. of Brown Dwarfs = {}\".format(c1))\n",
    "print(\"Predicted NO. of Red Dwarfs = {}\".format(c2))\n",
    "print(\"Predicted NO. of White Dwarfs = {}\".format(c3))\n",
    "print(\"Predicted NO. of Main Sequence stars = {}\".format(c4))\n",
    "print(\"Predicted NO. of Supergiants = {}\".format(c5))\n",
    "print(\"Predicted NO. of Hypergiants = {}\".format(c6))\n",
    "print(\"Total tested stars = {}\".format(len(z)))\n",
    "\n",
    "m = y_test\n",
    "\n",
    "print('_____________________________________________________')\n",
    "\n",
    "for i in range(0,len(m)):\n",
    "    if m[i] == 0:\n",
    "        c7+=1\n",
    "    elif m[i] == 1 :\n",
    "        c8+=1 \n",
    "    elif m[i] == 2 :\n",
    "        c9+=1 \n",
    "    elif m[i] == 3 :\n",
    "        c10+=1 \n",
    "    elif m[i] == 4 :\n",
    "        c11+=1 \n",
    "    elif m[i] == 5 :\n",
    "        c12+=1     \n",
    "\n",
    "\n",
    "print(\"Original NO. of Brown Dwarfs = {}\".format(c7))\n",
    "print(\"Original NO. of Red Dwarfs = {}\".format(c8))\n",
    "print(\"Original NO. of White Dwarfs = {}\".format(c9))\n",
    "print(\"Original NO. of Main Sequence stars = {}\".format(c10))\n",
    "print(\"Original NO. of Supergiants = {}\".format(c11))\n",
    "print(\"Original NO. of Hypergiants = {}\".format(c12))\n",
    "print(\"Total tested stars = {}\".format(len(x_test)))\n",
    "\n",
    "print('_____________________________________________________')\n",
    "print('Accuracy = {}%'.format((val_acc*100)))"
   ]
  },
  {
   "cell_type": "markdown",
   "metadata": {},
   "source": [
    "# Data Visualization"
   ]
  },
  {
   "cell_type": "markdown",
   "metadata": {},
   "source": [
    "## -- Visualizing Whole Dataset"
   ]
  },
  {
   "cell_type": "code",
   "execution_count": 17,
   "metadata": {},
   "outputs": [
    {
     "name": "stderr",
     "output_type": "stream",
     "text": [
      "C:\\Users\\Tejas\\AppData\\Local\\Temp/ipykernel_4660/3739355438.py:5: FutureWarning: In a future version of pandas all arguments of DataFrame.drop except for the argument 'labels' will be keyword-only.\n",
      "  x1 = np.array(df1.drop(['Star color','Spectral Class'],1))\n"
     ]
    },
    {
     "name": "stdout",
     "output_type": "stream",
     "text": [
      "Total Counted Stars = 240\n"
     ]
    },
    {
     "data": {
      "image/png": "[encoded data removed]",
      "text/plain": [
       "<Figure size 432x288 with 1 Axes>"
      ]
     },
     "metadata": {
      "needs_background": "light"
     },
     "output_type": "display_data"
    }
   ],
   "source": [
    "df1 = pd.read_csv('6 class csv.csv')\n",
    "\n",
    "\n",
    "\n",
    "x1 = np.array(df1.drop(['Star color','Spectral Class'],1))\n",
    "y1 = np.array(df1['Star type'], dtype ='float')\n",
    "y1.shape = (len(y1),1)\n",
    "c1 =0\n",
    "\n",
    "for i in range(0,len(x1)):\n",
    "    if x1[i][4] == 0:\n",
    "        a = plt.scatter(x1[i][0],x1[i][3], s = 30 , c = 'green', marker = '.')\n",
    "    elif x1[i][4]== 1:\n",
    "        b = plt.scatter(x1[i][0],x1[i][3],s = 50 , c = 'red',marker = '.')\n",
    "    elif x1[i][4]== 2:\n",
    "        c = plt.scatter(x1[i][0],x1[i][3],s = 75 , c = 'gray',marker = '.')\n",
    "    elif x1[i][4]== 3:\n",
    "        d = plt.scatter(x1[i][0],x1[i][3],s = 90 , c = 'brown',marker = '.')     \n",
    "    elif x1[i][4]== 4:\n",
    "        e = plt.scatter(x1[i][0],x1[i][3],s = 100 , c = 'orange',marker = 'o') \n",
    "    elif x1[i][4]== 5:\n",
    "        f = plt.scatter(x1[i][0],x1[i][3],s = 150 , c = 'blue',marker = 'o')\n",
    "        \n",
    "        \n",
    "    c1+=1\n",
    "\n",
    "\n",
    "print(\"Total Counted Stars = {}\".format(c1)) \n",
    "plt.xlabel(\"Temperature(K)\")\n",
    "plt.ylabel(\"Absolute Magnitude(Mv)\")\n",
    "plt.title(\"H-R Diagram of Total Stars \")\n",
    "plt.legend((a,b,c,d,e,f),('Brown Dwarf','Red Dwarf','White Dwarf','Main Sequence','Supergiant','Hypergiant'))\n",
    "m = np.linspace(0,40000,100)\n",
    "n = (0*m) -7.5\n",
    "plt.plot(m,n,'--m')\n",
    "f = np.linspace(0,6000,100)\n",
    "g = (0*f)+15.4\n",
    "plt.plot(f,g,'--c')\n",
    "plt.scatter(5778,4.83,s = 95, c= 'yellow',marker = 'o' )\n",
    "plt.gca().invert_xaxis()\n",
    "plt.gca().invert_yaxis()\n",
    "plt.show()"
   ]
  },
  {
   "cell_type": "code",
   "execution_count": 18,
   "metadata": {},
   "outputs": [],
   "source": [
    "##  Yellow coloured point in the Main Sequence star band denotes our \"SUN\""
   ]
  },
  {
   "cell_type": "markdown",
   "metadata": {},
   "source": [
    "## -- Visualizing Trained Stars"
   ]
  },
  {
   "cell_type": "code",
   "execution_count": 19,
   "metadata": {},
   "outputs": [
    {
     "name": "stdout",
     "output_type": "stream",
     "text": [
      "Total Trained Stars = 168\n"
     ]
    },
    {
     "data": {
      "image/png": "[encoded data removed]",
      "text/plain": [
       "<Figure size 432x288 with 1 Axes>"
      ]
     },
     "metadata": {
      "needs_background": "light"
     },
     "output_type": "display_data"
    }
   ],
   "source": [
    "c2=0\n",
    "\n",
    "for i in range(0,len(y_train)):\n",
    "    if y_train[i] == 0:\n",
    "        a = plt.scatter(x_train[i][0],x_train[i][3], s = 30 , c = 'green', marker = '.')\n",
    "    elif y_train[i]== 1:\n",
    "        b = plt.scatter(x_train[i][0],x_train[i][3],s = 50 , c = 'red',marker = '.')\n",
    "    elif y_train[i]== 2:\n",
    "        c = plt.scatter(x_train[i][0],x_train[i][3],s = 75 , c = 'gray',marker = '.')\n",
    "    elif y_train[i]== 3:\n",
    "        d = plt.scatter(x_train[i][0],x_train[i][3],s = 90 , c = 'brown',marker = '.')      \n",
    "    elif y_train[i]== 4:\n",
    "        e = plt.scatter(x_train[i][0],x_train[i][3],s = 100 , c = 'orange',marker = 'o') \n",
    "    elif y_train[i]== 5:\n",
    "        f = plt.scatter(x_train[i][0],x_train[i][3],s = 150 , c = 'blue',marker = 'o')    \n",
    "    c2+=1\n",
    "\n",
    "\n",
    "print(\"Total Trained Stars = {}\".format(c2)) \n",
    "plt.xlabel(\"Temperature(K)\")\n",
    "plt.ylabel(\"Absolute Magnitude(Mv)\")\n",
    "plt.title(\"H-R Diagram of Trained Stars \")\n",
    "plt.legend((a,b,c,d,e,f),('Brown Dwarf','Red Dwarf','White Dwarf','Main Sequence','Supergiant','Hypergiant'))\n",
    "m = np.linspace(0,40000,100)\n",
    "n = (0*m) -7.5\n",
    "plt.plot(m,n,'--m')\n",
    "f = np.linspace(0,6000,100)\n",
    "g = (0*f)+15.4\n",
    "plt.plot(f,g,'--c')\n",
    "plt.gca().invert_xaxis()\n",
    "plt.gca().invert_yaxis()\n",
    "plt.show()"
   ]
  },
  {
   "cell_type": "markdown",
   "metadata": {},
   "source": [
    "## -- Visualizing Tested Stars"
   ]
  },
  {
   "cell_type": "code",
   "execution_count": 20,
   "metadata": {},
   "outputs": [
    {
     "name": "stdout",
     "output_type": "stream",
     "text": [
      "Total Tested Stars = 72\n"
     ]
    },
    {
     "data": {
      "image/png": "[encoded data removed]",
      "text/plain": [
       "<Figure size 432x288 with 1 Axes>"
      ]
     },
     "metadata": {
      "needs_background": "light"
     },
     "output_type": "display_data"
    }
   ],
   "source": [
    "c3=0\n",
    "\n",
    "for i in range(0,len(y_test)):\n",
    "    if y_test[i] == 0:\n",
    "        a = plt.scatter(x_test[i][0],x_test[i][3], s = 30 , c = 'green', marker = '.')\n",
    "    elif y_test[i]== 1:\n",
    "        b = plt.scatter(x_test[i][0],x_test[i][3],s = 50 , c = 'red',marker = '.')\n",
    "    elif y_test[i]== 2:\n",
    "        c = plt.scatter(x_test[i][0],x_test[i][3],s = 75 , c = 'gray',marker = '.')\n",
    "    elif y_test[i]== 3:\n",
    "        d = plt.scatter(x_test[i][0],x_test[i][3],s = 90 , c = 'brown',marker = '.')   \n",
    "    elif y_test[i]== 4:\n",
    "        e = plt.scatter(x_test[i][0],x_test[i][3],s = 100 , c = 'orange',marker = 'o')\n",
    "    elif y_test[i]== 5:\n",
    "        f = plt.scatter(x_test[i][0],x_test[i][3],s = 150 , c = 'blue',marker = 'o')     \n",
    "    c3+=1\n",
    "\n",
    "\n",
    "print(\"Total Tested Stars = {}\".format(c3)) \n",
    "plt.xlabel(\"Temperature(K)\")\n",
    "plt.ylabel(\"Absolute Magnitude(Mv)\")\n",
    "plt.title(\"H-R Diagram of Tested Stars \")\n",
    "plt.legend((a,b,c,d,e,f),('Brown Dwarf','Red Dwarf','White Dwarf','Main Sequence','Supergiant','Hypergiant'))\n",
    "m = np.linspace(0,40000,100)\n",
    "n = (0*m) -7.5\n",
    "plt.plot(m,n,'--m')\n",
    "f = np.linspace(0,6000,100)\n",
    "g = (0*f)+15.4\n",
    "plt.plot(f,g,'--c')\n",
    "plt.gca().invert_xaxis()\n",
    "plt.gca().invert_yaxis()\n",
    "plt.show()"
   ]
  },
  {
   "cell_type": "markdown",
   "metadata": {},
   "source": [
    "## -- Visualizing Predicted Stars"
   ]
  },
  {
   "cell_type": "code",
   "execution_count": 21,
   "metadata": {},
   "outputs": [
    {
     "name": "stdout",
     "output_type": "stream",
     "text": [
      "Total Predicted Stars = 72\n"
     ]
    },
    {
     "data": {
      "image/png": "[encoded data removed]",
      "text/plain": [
       "<Figure size 432x288 with 1 Axes>"
      ]
     },
     "metadata": {
      "needs_background": "light"
     },
     "output_type": "display_data"
    },
    {
     "name": "stdout",
     "output_type": "stream",
     "text": [
      "Accuracy = 97.22222089767456 %\n"
     ]
    }
   ],
   "source": [
    "c4 = 0\n",
    "\n",
    "for i in range(0,len(z)):\n",
    "    if np.array_equal(z[i],arr[0]):\n",
    "        a = plt.scatter(x_test[i][0],x_test[i][3], s = 30 , c = 'green', marker = '.')\n",
    "    elif np.array_equal(z[i],arr[1]):\n",
    "        b = plt.scatter(x_test[i][0],x_test[i][3],s = 50 , c = 'red',marker = '.')\n",
    "    elif np.array_equal(z[i],arr[2]):\n",
    "        c = plt.scatter(x_test[i][0],x_test[i][3],s = 75 , c = 'gray',marker = '.')\n",
    "    elif np.array_equal(z[i],arr[3]):\n",
    "        d = plt.scatter(x_test[i][0],x_test[i][3],s = 90 , c = 'brown',marker = '.')    \n",
    "    elif np.array_equal(z[i],arr[4]):\n",
    "        e = plt.scatter(x_test[i][0],x_test[i][3],s = 100 , c = 'orange',marker = 'o')\n",
    "    elif np.array_equal(z[i],arr[5]):\n",
    "        f = plt.scatter(x_test[i][0],x_test[i][3],s = 150 , c = 'blue',marker = 'o')     \n",
    "    c4+=1\n",
    "\n",
    "print(\"Total Predicted Stars = {}\".format(c4)) \n",
    "plt.xlabel(\"Temperature(K)\")\n",
    "plt.ylabel(\"Absolute Magnitude(Mv)\")\n",
    "plt.title(\"H-R Diagram of Stars \")\n",
    "plt.legend((a,b,c,d,e,f),('Brown Dwarf','Red Dwarf','White Dwarf','Main Sequence','Supergiant','Hypergiant'))\n",
    "m = np.linspace(0,40000,100)\n",
    "n = (0*m) -7.5\n",
    "plt.plot(m,n,'--m')\n",
    "f = np.linspace(0,6000,100)\n",
    "g = (0*f)+15.4\n",
    "plt.plot(f,g,'--c')\n",
    "plt.gca().invert_xaxis()\n",
    "plt.gca().invert_yaxis()\n",
    "plt.show()\n",
    "print(\"Accuracy = {} %\".format(val_acc*100))"
   ]
  },
  {
   "cell_type": "markdown",
   "metadata": {},
   "source": [
    "## Saving Trained data in a pickle for future use"
   ]
  },
  {
   "cell_type": "code",
   "execution_count": 22,
   "metadata": {},
   "outputs": [],
   "source": [
    "import pickle\n",
    "\n",
    "data = np.hstack((x_f_train,y_f_train))    # Merging the label column (y_test) with the X_test  i.e the total training set\n",
    "\n",
    "with open(\"6_class_model.pickle\",\"wb\") as f:\n",
    "    pickle.dump( data , f)"
   ]
  }
 ],
 "metadata": {
  "kernelspec": {
   "display_name": "Python 3 (ipykernel)",
   "language": "python",
   "name": "python3"
  },
  "language_info": {
   "codemirror_mode": {
    "name": "ipython",
    "version": 3
   },
   "file_extension": ".py",
   "mimetype": "text/x-python",
   "name": "python",
   "nbconvert_exporter": "python",
   "pygments_lexer": "ipython3",
   "version": "3.9.12"
  }
 },
 "nbformat": 4,
 "nbformat_minor": 4
}
